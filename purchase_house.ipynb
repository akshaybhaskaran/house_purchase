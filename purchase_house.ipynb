{
 "cells": [
  {
   "cell_type": "markdown",
   "metadata": {},
   "source": [
    "# <center> Purchase your next house in, and around, Austin! </center>"
   ]
  },
  {
   "cell_type": "code",
   "execution_count": 236,
   "metadata": {},
   "outputs": [],
   "source": [
    "# Importing the necessary libraries\n",
    "import pandas as pd\n",
    "import numpy as np\n",
    "import requests\n",
    "import json\n",
    "from bs4 import BeautifulSoup\n",
    "import re\n",
    "from geopy.geocoders import Nominatim\n",
    "import pprint"
   ]
  },
  {
   "cell_type": "markdown",
   "metadata": {},
   "source": [
    "There are some cities that are about few miles from Austin, first let us see what those cities are. Because when purchasing a house in and around Austin, it is good to compare these cities as well!"
   ]
  },
  {
   "cell_type": "code",
   "execution_count": 327,
   "metadata": {},
   "outputs": [
    {
     "name": "stdout",
     "output_type": "stream",
     "text": [
      "Cities around Austin: \n",
      "\n",
      "Austin\n",
      "Round Rock\n",
      "Cedar Park\n",
      "Georgetown\n",
      "San Marcos\n",
      "Pflugerville\n",
      "Leander\n",
      "Kyle\n",
      "Hutto\n"
     ]
    }
   ],
   "source": [
    "# Scraping the near-by cities list from wikipedia\n",
    "austin_nearby = \"https://en.wikipedia.org/wiki/Greater_Austin\"\n",
    "response = requests.get(austin_nearby)\n",
    "\n",
    "# Parsing the results with BeautifulSoup\n",
    "soup = BeautifulSoup(response.text, \"html.parser\")\n",
    "table = soup.find_all(\"table\", class_=\"wikitable\")\n",
    "cities_table = table[1]\n",
    "city_list = []\n",
    "table_def = cities_table.find_all('td')\n",
    "\n",
    "# Every third row in table_def gives details about the cities, so incrementing by 3 \n",
    "for i in range(0,27,3):\n",
    "    city_list.append(table_def[i].text.strip())\n",
    "    \n",
    "print(\"Cities around Austin: \\n\", *city_list, sep=\"\\n\")"
   ]
  },
  {
   "cell_type": "code",
   "execution_count": 333,
   "metadata": {},
   "outputs": [
    {
     "name": "stdout",
     "output_type": "stream",
     "text": [
      "Austin -- 30.2711286,-97.7436995\n",
      "Round Rock -- 30.508235,-97.6788934\n",
      "Cedar Park -- 30.5217116,-97.827833\n",
      "Georgetown -- 30.671598,-97.6550066\n",
      "San Marcos -- 29.8826436,-97.9405828\n",
      "Pflugerville -- 30.4393696,-97.6200043\n",
      "Leander -- 30.5586046,-97.8444364\n",
      "Kyle -- 29.9892928,-97.8772103\n",
      "Hutto -- 30.5427638,-97.5468898\n"
     ]
    }
   ],
   "source": [
    "# Getting the latitude and longitude coordinates of these cities using OpenCage Geocoding APIs\n",
    "my_api_key = \"a91cf6a6d9ec4e6fa91deb0bc4fbf168\"\n",
    "for city in city_list:\n",
    "    query = city + \", TX, United States of America\"\n",
    "    uri = \"https://api.opencagedata.com/geocode/v1/json?q={}&key={}\".format(query, my_api_key)\n",
    "    response = requests.get(uri).json()\n",
    "    latitude = response['results'][0]['geometry']['lat']\n",
    "    longitude = response['results'][0]['geometry']['lng']\n",
    "    print(\"{} -- {}, {}\".format(city, latitude, longitude))\n"
   ]
  },
  {
   "cell_type": "code",
   "execution_count": null,
   "metadata": {},
   "outputs": [],
   "source": []
  },
  {
   "cell_type": "code",
   "execution_count": null,
   "metadata": {},
   "outputs": [],
   "source": []
  }
 ],
 "metadata": {
  "kernelspec": {
   "display_name": "Python 3",
   "language": "python",
   "name": "python3"
  },
  "language_info": {
   "codemirror_mode": {
    "name": "ipython",
    "version": 3
   },
   "file_extension": ".py",
   "mimetype": "text/x-python",
   "name": "python",
   "nbconvert_exporter": "python",
   "pygments_lexer": "ipython3",
   "version": "3.7.2"
  }
 },
 "nbformat": 4,
 "nbformat_minor": 2
}
