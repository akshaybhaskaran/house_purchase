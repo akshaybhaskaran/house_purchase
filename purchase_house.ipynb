{
 "cells": [
  {
   "cell_type": "markdown",
   "metadata": {},
   "source": [
    "# <center> Purchasing your next house! </center>"
   ]
  },
  {
   "cell_type": "markdown",
   "metadata": {},
   "source": [
    "### Libraries, credentials, and configuration"
   ]
  },
  {
   "cell_type": "code",
   "execution_count": 194,
   "metadata": {},
   "outputs": [],
   "source": [
    "# Importing the necessary libraries\n",
    "import pandas as pd\n",
    "import numpy as np\n",
    "import requests\n",
    "import json\n",
    "from bs4 import BeautifulSoup\n",
    "import re\n",
    "from geopy.geocoders import Nominatim\n",
    "import pprint\n",
    "import folium\n",
    "from folium.features import DivIcon\n",
    "\n",
    "# Four Square credentials\n",
    "client_id = 'PEQPJEZXPG4HRTFTMTZHL3P3QRZ1SV55525PX2YO22F3Q0JB'\n",
    "client_secret = 'JEDPFGTRY4SISHI1S2W3RTQGIG3UUROA5OG4I3NW4UXBBLB1'\n",
    "version = '20180605'\n",
    "\n",
    "# OpenCage Geocoding API key\n",
    "my_api_key = \"a91cf6a6d9ec4e6fa91deb0bc4fbf168\""
   ]
  },
  {
   "cell_type": "markdown",
   "metadata": {},
   "source": [
    "### Shortlisting the cities based on population"
   ]
  },
  {
   "cell_type": "markdown",
   "metadata": {},
   "source": [
    "There are some good cities around Austin, but it will become a heavy task to compare and contrast each cities as there are more than 30. So, this project will be limited to top three cities with a high population in the list."
   ]
  },
  {
   "cell_type": "code",
   "execution_count": 2,
   "metadata": {},
   "outputs": [
    {
     "data": {
      "text/html": [
       "<div>\n",
       "<style scoped>\n",
       "    .dataframe tbody tr th:only-of-type {\n",
       "        vertical-align: middle;\n",
       "    }\n",
       "\n",
       "    .dataframe tbody tr th {\n",
       "        vertical-align: top;\n",
       "    }\n",
       "\n",
       "    .dataframe thead th {\n",
       "        text-align: right;\n",
       "    }\n",
       "</style>\n",
       "<table border=\"1\" class=\"dataframe\">\n",
       "  <thead>\n",
       "    <tr style=\"text-align: right;\">\n",
       "      <th></th>\n",
       "      <th>CityName</th>\n",
       "      <th>Population</th>\n",
       "    </tr>\n",
       "  </thead>\n",
       "  <tbody>\n",
       "    <tr>\n",
       "      <th>0</th>\n",
       "      <td>Austin</td>\n",
       "      <td>950,715</td>\n",
       "    </tr>\n",
       "    <tr>\n",
       "      <th>1</th>\n",
       "      <td>Round Rock</td>\n",
       "      <td>123,678</td>\n",
       "    </tr>\n",
       "    <tr>\n",
       "      <th>2</th>\n",
       "      <td>Cedar Park</td>\n",
       "      <td>75,704</td>\n",
       "    </tr>\n",
       "    <tr>\n",
       "      <th>3</th>\n",
       "      <td>Georgetown</td>\n",
       "      <td>70,685</td>\n",
       "    </tr>\n",
       "    <tr>\n",
       "      <th>4</th>\n",
       "      <td>San Marcos</td>\n",
       "      <td>63,071</td>\n",
       "    </tr>\n",
       "    <tr>\n",
       "      <th>5</th>\n",
       "      <td>Pflugerville</td>\n",
       "      <td>59,245</td>\n",
       "    </tr>\n",
       "    <tr>\n",
       "      <th>6</th>\n",
       "      <td>Leander</td>\n",
       "      <td>42,761</td>\n",
       "    </tr>\n",
       "    <tr>\n",
       "      <th>7</th>\n",
       "      <td>Kyle</td>\n",
       "      <td>39,060</td>\n",
       "    </tr>\n",
       "    <tr>\n",
       "      <th>8</th>\n",
       "      <td>Hutto</td>\n",
       "      <td>23,832</td>\n",
       "    </tr>\n",
       "  </tbody>\n",
       "</table>\n",
       "</div>"
      ],
      "text/plain": [
       "       CityName Population\n",
       "0        Austin    950,715\n",
       "1    Round Rock    123,678\n",
       "2    Cedar Park     75,704\n",
       "3    Georgetown     70,685\n",
       "4    San Marcos     63,071\n",
       "5  Pflugerville     59,245\n",
       "6       Leander     42,761\n",
       "7          Kyle     39,060\n",
       "8         Hutto     23,832"
      ]
     },
     "execution_count": 2,
     "metadata": {},
     "output_type": "execute_result"
    }
   ],
   "source": [
    "# Scraping the near-by cities list from wikipedia\n",
    "austin_nearby = \"https://en.wikipedia.org/wiki/Greater_Austin\"\n",
    "response = requests.get(austin_nearby)\n",
    "\n",
    "# Parsing the results with BeautifulSoup\n",
    "soup = BeautifulSoup(response.text, \"html.parser\")\n",
    "table = soup.find_all(\"table\", class_=\"wikitable\")\n",
    "population_table = table[1]\n",
    "pop_def = population_table.find_all('td')\n",
    "\n",
    "city_list = []\n",
    "population_list = []\n",
    "\n",
    "for i in range(0, 27, 3):\n",
    "    city_list.append(pop_def[i].text.strip())\n",
    "    population_list.append(pop_def[i+1].contents[0])\n",
    "\n",
    "city_df = pd.DataFrame(columns=[\"CityName\", \"Population\"])\n",
    "city_df[\"CityName\"] = city_list \n",
    "city_df[\"Population\"] = population_list\n",
    "city_df"
   ]
  },
  {
   "cell_type": "markdown",
   "metadata": {},
   "source": [
    "As we see, the top three cities are: <strong>Austin, Round Rock, and Cedar Park</strong>. So, let's start exploring them\n"
   ]
  },
  {
   "cell_type": "code",
   "execution_count": 3,
   "metadata": {},
   "outputs": [
    {
     "data": {
      "text/html": [
       "<div>\n",
       "<style scoped>\n",
       "    .dataframe tbody tr th:only-of-type {\n",
       "        vertical-align: middle;\n",
       "    }\n",
       "\n",
       "    .dataframe tbody tr th {\n",
       "        vertical-align: top;\n",
       "    }\n",
       "\n",
       "    .dataframe thead th {\n",
       "        text-align: right;\n",
       "    }\n",
       "</style>\n",
       "<table border=\"1\" class=\"dataframe\">\n",
       "  <thead>\n",
       "    <tr style=\"text-align: right;\">\n",
       "      <th></th>\n",
       "      <th>CityName</th>\n",
       "      <th>Population</th>\n",
       "      <th>Latitude</th>\n",
       "      <th>Longitude</th>\n",
       "    </tr>\n",
       "  </thead>\n",
       "  <tbody>\n",
       "    <tr>\n",
       "      <th>0</th>\n",
       "      <td>Austin</td>\n",
       "      <td>950,715</td>\n",
       "      <td>30.271129</td>\n",
       "      <td>-97.743700</td>\n",
       "    </tr>\n",
       "    <tr>\n",
       "      <th>1</th>\n",
       "      <td>Round Rock</td>\n",
       "      <td>123,678</td>\n",
       "      <td>30.508235</td>\n",
       "      <td>-97.678893</td>\n",
       "    </tr>\n",
       "    <tr>\n",
       "      <th>2</th>\n",
       "      <td>Cedar Park</td>\n",
       "      <td>75,704</td>\n",
       "      <td>30.521712</td>\n",
       "      <td>-97.827833</td>\n",
       "    </tr>\n",
       "  </tbody>\n",
       "</table>\n",
       "</div>"
      ],
      "text/plain": [
       "     CityName Population   Latitude  Longitude\n",
       "0      Austin    950,715  30.271129 -97.743700\n",
       "1  Round Rock    123,678  30.508235 -97.678893\n",
       "2  Cedar Park     75,704  30.521712 -97.827833"
      ]
     },
     "execution_count": 3,
     "metadata": {},
     "output_type": "execute_result"
    }
   ],
   "source": [
    "# Getting the latitude and longitude coordinates of these cities using OpenCage Geocoding APIs\n",
    "city_list = ['Austin', 'Round Rock', 'Cedar Park']\n",
    "latitude_list = []\n",
    "longitude_list = []\n",
    "top_city_df = pd.DataFrame(columns=[\"CityName\", \"Population\", \"Latitude\", \"Longitude\"])\n",
    "\n",
    "for city in city_list:\n",
    "    query = city + \", TX, United States of America\"\n",
    "    uri = \"https://api.opencagedata.com/geocode/v1/json?q={}&key={}\".format(query, my_api_key)\n",
    "    response = requests.get(uri).json()\n",
    "    latitude_list.append(response['results'][0]['geometry']['lat'])\n",
    "    longitude_list.append(response['results'][0]['geometry']['lng'])\n",
    "    \n",
    "top_city_df[\"CityName\"] = city_list\n",
    "top_city_df[\"Latitude\"] = latitude_list\n",
    "top_city_df[\"Population\"] = city_df[\"Population\"]\n",
    "top_city_df[\"Longitude\"] = longitude_list\n",
    "    \n",
    "top_city_df"
   ]
  },
  {
   "cell_type": "markdown",
   "metadata": {},
   "source": [
    "### Exploring the top 3 cities with respect to various attributes"
   ]
  },
  {
   "cell_type": "markdown",
   "metadata": {},
   "source": [
    "For all three cities, we are going to explore different aspects using FourSquare and other APIs to get further insights into a particular city. These different aspects could be a good starting point to consider when purchasing a house:\n",
    "<ul>\n",
    "    <li>Number of schools with High-rating</li>\n",
    "    <li>Average prices of the house</li>\n",
    "    <li>Property taxes</li>\n",
    "    <li>Average HOA</li>\n",
    "    <li>Health  [Hospital, Pharmacies, Clinics, Dentist]</li>\n",
    "    <li>Food  [Grocery shops, restaurants, coffee shops]</li>\n",
    "    <li>Entertainment  [Movie Theaters, Bars]</li>\n",
    "</ul>\n",
    "\n"
   ]
  },
  {
   "cell_type": "code",
   "execution_count": 189,
   "metadata": {},
   "outputs": [],
   "source": [
    "# Defining a general function that will be used to consume FourSquare APIs to get details about various categories\n",
    "def getCategories(latitude, longitude, query):\n",
    "    num_of_venues = 100\n",
    "    radius = 500\n",
    "    categories_uri = \"https://api.foursquare.com/v2/venues/search?&client_id={}&client_secret={}&v={}&ll={},{}&radius={}&limit={}&query={}\".format(client_id, client_secret, version, latitude, longitude, radius, num_of_venues, query)\n",
    "    return categories_uri"
   ]
  },
  {
   "cell_type": "markdown",
   "metadata": {},
   "source": [
    "<center><strong>Austin, TX</strong></center>"
   ]
  },
  {
   "cell_type": "markdown",
   "metadata": {},
   "source": [
    "#### i. HEALTH - that includes hospitals, pharmacies, clinic, dentists etc."
   ]
  },
  {
   "cell_type": "code",
   "execution_count": 191,
   "metadata": {},
   "outputs": [
    {
     "data": {
      "text/html": [
       "<div>\n",
       "<style scoped>\n",
       "    .dataframe tbody tr th:only-of-type {\n",
       "        vertical-align: middle;\n",
       "    }\n",
       "\n",
       "    .dataframe tbody tr th {\n",
       "        vertical-align: top;\n",
       "    }\n",
       "\n",
       "    .dataframe thead th {\n",
       "        text-align: right;\n",
       "    }\n",
       "</style>\n",
       "<table border=\"1\" class=\"dataframe\">\n",
       "  <thead>\n",
       "    <tr style=\"text-align: right;\">\n",
       "      <th></th>\n",
       "      <th>Health Venue</th>\n",
       "      <th>Latitude</th>\n",
       "      <th>Longitude</th>\n",
       "    </tr>\n",
       "  </thead>\n",
       "  <tbody>\n",
       "    <tr>\n",
       "      <th>0</th>\n",
       "      <td>Austin Shoe Hospital</td>\n",
       "      <td>30.269806</td>\n",
       "      <td>-97.742216</td>\n",
       "    </tr>\n",
       "    <tr>\n",
       "      <th>1</th>\n",
       "      <td>Texas Hospital Association</td>\n",
       "      <td>30.274438</td>\n",
       "      <td>-97.743323</td>\n",
       "    </tr>\n",
       "    <tr>\n",
       "      <th>2</th>\n",
       "      <td>Texas Hospital Association</td>\n",
       "      <td>30.274274</td>\n",
       "      <td>-97.743381</td>\n",
       "    </tr>\n",
       "    <tr>\n",
       "      <th>3</th>\n",
       "      <td>CVS pharmacy</td>\n",
       "      <td>30.267245</td>\n",
       "      <td>-97.743364</td>\n",
       "    </tr>\n",
       "    <tr>\n",
       "      <th>4</th>\n",
       "      <td>Brown Wharton &amp; Brothers Medical Malpractice L...</td>\n",
       "      <td>30.268149</td>\n",
       "      <td>-97.742321</td>\n",
       "    </tr>\n",
       "    <tr>\n",
       "      <th>5</th>\n",
       "      <td>Medical WasteX Disposal</td>\n",
       "      <td>30.271077</td>\n",
       "      <td>-97.743709</td>\n",
       "    </tr>\n",
       "    <tr>\n",
       "      <th>6</th>\n",
       "      <td>Art Medical Alliance</td>\n",
       "      <td>30.270931</td>\n",
       "      <td>-97.741763</td>\n",
       "    </tr>\n",
       "    <tr>\n",
       "      <th>7</th>\n",
       "      <td>Texas Medical Board</td>\n",
       "      <td>30.270188</td>\n",
       "      <td>-97.746904</td>\n",
       "    </tr>\n",
       "    <tr>\n",
       "      <th>8</th>\n",
       "      <td>Dell Children's Medical Center</td>\n",
       "      <td>30.267548</td>\n",
       "      <td>-97.739952</td>\n",
       "    </tr>\n",
       "    <tr>\n",
       "      <th>9</th>\n",
       "      <td>Texas State Board of Veterinary Medical Examiners</td>\n",
       "      <td>30.266288</td>\n",
       "      <td>-97.745539</td>\n",
       "    </tr>\n",
       "    <tr>\n",
       "      <th>10</th>\n",
       "      <td>Travis County Wellness Clinic</td>\n",
       "      <td>30.273153</td>\n",
       "      <td>-97.744370</td>\n",
       "    </tr>\n",
       "    <tr>\n",
       "      <th>11</th>\n",
       "      <td>Royal clinic</td>\n",
       "      <td>30.267685</td>\n",
       "      <td>-97.744310</td>\n",
       "    </tr>\n",
       "    <tr>\n",
       "      <th>12</th>\n",
       "      <td>183 Vet Clinic</td>\n",
       "      <td>30.267153</td>\n",
       "      <td>-97.743061</td>\n",
       "    </tr>\n",
       "  </tbody>\n",
       "</table>\n",
       "</div>"
      ],
      "text/plain": [
       "                                         Health Venue   Latitude  Longitude\n",
       "0                                Austin Shoe Hospital  30.269806 -97.742216\n",
       "1                          Texas Hospital Association  30.274438 -97.743323\n",
       "2                          Texas Hospital Association  30.274274 -97.743381\n",
       "3                                        CVS pharmacy  30.267245 -97.743364\n",
       "4   Brown Wharton & Brothers Medical Malpractice L...  30.268149 -97.742321\n",
       "5                             Medical WasteX Disposal  30.271077 -97.743709\n",
       "6                                Art Medical Alliance  30.270931 -97.741763\n",
       "7                                 Texas Medical Board  30.270188 -97.746904\n",
       "8                      Dell Children's Medical Center  30.267548 -97.739952\n",
       "9   Texas State Board of Veterinary Medical Examiners  30.266288 -97.745539\n",
       "10                      Travis County Wellness Clinic  30.273153 -97.744370\n",
       "11                                       Royal clinic  30.267685 -97.744310\n",
       "12                                     183 Vet Clinic  30.267153 -97.743061"
      ]
     },
     "execution_count": 191,
     "metadata": {},
     "output_type": "execute_result"
    }
   ],
   "source": [
    "# Writing code to consume the above-function, and store the health responses to a dataframe\n",
    "health_list = [\"hospital\", \"pharmacy\", \"medical\", \"clinic\"]\n",
    "austin_health_dataframe = pd.DataFrame(columns=[\"Health Venue\", \"Latitude\", \"Longitude\"])\n",
    "venue = []\n",
    "latitude = []\n",
    "longitude = []\n",
    "for h in health_list:\n",
    "        response = requests.get(getCategories(top_city_df.loc[0, 'Latitude'], top_city_df.loc[0, 'Longitude'], h)).json()\n",
    "        for i in range(len(response['response']['venues'])):\n",
    "            venue.append(response['response']['venues'][i]['name'])\n",
    "            latitude.append(response['response']['venues'][i]['location']['lat'])\n",
    "            longitude.append(response['response']['venues'][i]['location']['lng'])\n",
    "\n",
    "austin_health_dataframe[\"Health Venue\"] = venue\n",
    "austin_health_dataframe[\"Latitude\"] = latitude\n",
    "austin_health_dataframe[\"Longitude\"] = longitude\n",
    "\n",
    "austin_health_dataframe      "
   ]
  },
  {
   "cell_type": "code",
   "execution_count": 260,
   "metadata": {},
   "outputs": [
    {
     "data": {
      "text/html": [
       "<div style=\"width:100%;\"><div style=\"position:relative;width:100%;height:0;padding-bottom:60%;\"><iframe src=\"data:text/html;charset=utf-8;base64,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\" style=\"position:absolute;width:100%;height:100%;left:0;top:0;border:none !important;\" allowfullscreen webkitallowfullscreen mozallowfullscreen></iframe></div></div>"
      ],
      "text/plain": [
       "<folium.folium.Map at 0x11d84e6d8>"
      ]
     },
     "execution_count": 260,
     "metadata": {},
     "output_type": "execute_result"
    }
   ],
   "source": [
    "# visualizing health venues of Austin \n",
    "\n",
    "# creating a map centralized to Austin\n",
    "austin_map = folium.Map(location=[30.271129, -97.743700], min_zoom=15)\n",
    "\n",
    "# marking Austin health facilities\n",
    "for lat, long, venue in zip(austin_health_dataframe[\"Latitude\"], austin_health_dataframe[\"Longitude\"], austin_health_dataframe[\"Health Venue\"]):\n",
    "    folium.CircleMarker(location=[lat, long],\n",
    "    radius=8,\n",
    "    popup=venue,\n",
    "    color='#FF0000',\n",
    "    fill=True,\n",
    "    fill_color='#FF0000',\n",
    "    fill_opacity=0.5).add_to(austin_map)\n",
    "    folium.map.Marker([30.254, -97.738],\n",
    "    icon=DivIcon(\n",
    "        icon_size=(500,500),\n",
    "        icon_anchor=(0,0),\n",
    "        html='<p style=\"font-size:24px;\"><strong>Austin Health Venues</strong></p>',)).add_to(austin_map)\n",
    "\n",
    "\n",
    "austin_map\n"
   ]
  },
  {
   "cell_type": "code",
   "execution_count": null,
   "metadata": {},
   "outputs": [],
   "source": []
  }
 ],
 "metadata": {
  "kernelspec": {
   "display_name": "Python 3",
   "language": "python",
   "name": "python3"
  },
  "language_info": {
   "codemirror_mode": {
    "name": "ipython",
    "version": 3
   },
   "file_extension": ".py",
   "mimetype": "text/x-python",
   "name": "python",
   "nbconvert_exporter": "python",
   "pygments_lexer": "ipython3",
   "version": "3.7.2"
  }
 },
 "nbformat": 4,
 "nbformat_minor": 2
}
