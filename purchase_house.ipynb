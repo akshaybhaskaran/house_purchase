{
 "cells": [
  {
   "cell_type": "markdown",
   "metadata": {},
   "source": [
    "# <center> Purchasing your next house! </center>"
   ]
  },
  {
   "cell_type": "markdown",
   "metadata": {},
   "source": [
    "### Libraries, credentials, and configuration"
   ]
  },
  {
   "cell_type": "code",
   "execution_count": 2,
   "metadata": {},
   "outputs": [],
   "source": [
    "# Importing the necessary libraries\n",
    "import pandas as pd\n",
    "import numpy as np\n",
    "import requests\n",
    "import json\n",
    "from bs4 import BeautifulSoup\n",
    "import re\n",
    "from geopy.geocoders import Nominatim\n",
    "import pprint\n",
    "import folium\n",
    "from folium.features import DivIcon\n",
    "import matplotlib.pyplot as plt\n",
    "from IPython.display import display\n",
    "\n",
    "# Four Square credentials\n",
    "client_id = 'PEQPJEZXPG4HRTFTMTZHL3P3QRZ1SV55525PX2YO22F3Q0JB'\n",
    "client_secret = 'JEDPFGTRY4SISHI1S2W3RTQGIG3UUROA5OG4I3NW4UXBBLB1'\n",
    "version = '20180605'\n",
    "\n",
    "# OpenCage Geocoding API key\n",
    "my_api_key = \"a91cf6a6d9ec4e6fa91deb0bc4fbf168\"\n",
    "\n",
    "# Zillow ZWSID\n",
    "zwsid = \"X1-ZWz1h8e56llaff_6bk45\""
   ]
  },
  {
   "cell_type": "markdown",
   "metadata": {},
   "source": [
    "### Shortlisting the cities based on population"
   ]
  },
  {
   "cell_type": "markdown",
   "metadata": {},
   "source": [
    "There are some good cities around Austin, but it will become a heavy task to compare and contrast each cities as there are more than 30. So, this project will be limited to top three cities with a high population in the list."
   ]
  },
  {
   "cell_type": "code",
   "execution_count": 21,
   "metadata": {},
   "outputs": [
    {
     "data": {
      "text/html": [
       "<div>\n",
       "<style scoped>\n",
       "    .dataframe tbody tr th:only-of-type {\n",
       "        vertical-align: middle;\n",
       "    }\n",
       "\n",
       "    .dataframe tbody tr th {\n",
       "        vertical-align: top;\n",
       "    }\n",
       "\n",
       "    .dataframe thead th {\n",
       "        text-align: right;\n",
       "    }\n",
       "</style>\n",
       "<table border=\"1\" class=\"dataframe\">\n",
       "  <thead>\n",
       "    <tr style=\"text-align: right;\">\n",
       "      <th></th>\n",
       "      <th>CityName</th>\n",
       "      <th>Population</th>\n",
       "    </tr>\n",
       "  </thead>\n",
       "  <tbody>\n",
       "    <tr>\n",
       "      <th>0</th>\n",
       "      <td>Austin</td>\n",
       "      <td>950,715</td>\n",
       "    </tr>\n",
       "    <tr>\n",
       "      <th>1</th>\n",
       "      <td>Round Rock</td>\n",
       "      <td>123,678</td>\n",
       "    </tr>\n",
       "    <tr>\n",
       "      <th>2</th>\n",
       "      <td>Cedar Park</td>\n",
       "      <td>75,704</td>\n",
       "    </tr>\n",
       "    <tr>\n",
       "      <th>3</th>\n",
       "      <td>Georgetown</td>\n",
       "      <td>70,685</td>\n",
       "    </tr>\n",
       "    <tr>\n",
       "      <th>4</th>\n",
       "      <td>San Marcos</td>\n",
       "      <td>63,071</td>\n",
       "    </tr>\n",
       "    <tr>\n",
       "      <th>5</th>\n",
       "      <td>Pflugerville</td>\n",
       "      <td>59,245</td>\n",
       "    </tr>\n",
       "    <tr>\n",
       "      <th>6</th>\n",
       "      <td>Leander</td>\n",
       "      <td>42,761</td>\n",
       "    </tr>\n",
       "    <tr>\n",
       "      <th>7</th>\n",
       "      <td>Kyle</td>\n",
       "      <td>39,060</td>\n",
       "    </tr>\n",
       "    <tr>\n",
       "      <th>8</th>\n",
       "      <td>Hutto</td>\n",
       "      <td>23,832</td>\n",
       "    </tr>\n",
       "  </tbody>\n",
       "</table>\n",
       "</div>"
      ],
      "text/plain": [
       "       CityName Population\n",
       "0        Austin    950,715\n",
       "1    Round Rock    123,678\n",
       "2    Cedar Park     75,704\n",
       "3    Georgetown     70,685\n",
       "4    San Marcos     63,071\n",
       "5  Pflugerville     59,245\n",
       "6       Leander     42,761\n",
       "7          Kyle     39,060\n",
       "8         Hutto     23,832"
      ]
     },
     "execution_count": 21,
     "metadata": {},
     "output_type": "execute_result"
    }
   ],
   "source": [
    "# Scraping the near-by cities list from wikipedia\n",
    "austin_nearby = \"https://en.wikipedia.org/wiki/Greater_Austin\"\n",
    "response = requests.get(austin_nearby)\n",
    "\n",
    "# Parsing the results with BeautifulSoup\n",
    "soup = BeautifulSoup(response.text, \"html.parser\")\n",
    "table = soup.find_all(\"table\", class_=\"wikitable\")\n",
    "population_table = table[1]\n",
    "pop_def = population_table.find_all('td')\n",
    "\n",
    "city_list = []\n",
    "population_list = []\n",
    "\n",
    "for i in range(0, 27, 3):\n",
    "    city_list.append(pop_def[i].text.strip())\n",
    "    population_list.append(pop_def[i+1].contents[0])\n",
    "\n",
    "city_df = pd.DataFrame(columns=[\"CityName\", \"Population\"])\n",
    "city_df[\"CityName\"] = city_list \n",
    "city_df[\"Population\"] = population_list\n",
    "city_df"
   ]
  },
  {
   "cell_type": "markdown",
   "metadata": {},
   "source": [
    "As we see, the top three cities are: <strong>Austin, Round Rock, and Cedar Park</strong>. So, let's start exploring them\n"
   ]
  },
  {
   "cell_type": "code",
   "execution_count": 22,
   "metadata": {},
   "outputs": [
    {
     "data": {
      "text/html": [
       "<div>\n",
       "<style scoped>\n",
       "    .dataframe tbody tr th:only-of-type {\n",
       "        vertical-align: middle;\n",
       "    }\n",
       "\n",
       "    .dataframe tbody tr th {\n",
       "        vertical-align: top;\n",
       "    }\n",
       "\n",
       "    .dataframe thead th {\n",
       "        text-align: right;\n",
       "    }\n",
       "</style>\n",
       "<table border=\"1\" class=\"dataframe\">\n",
       "  <thead>\n",
       "    <tr style=\"text-align: right;\">\n",
       "      <th></th>\n",
       "      <th>CityName</th>\n",
       "      <th>Population</th>\n",
       "      <th>Latitude</th>\n",
       "      <th>Longitude</th>\n",
       "    </tr>\n",
       "  </thead>\n",
       "  <tbody>\n",
       "    <tr>\n",
       "      <th>0</th>\n",
       "      <td>Austin</td>\n",
       "      <td>950,715</td>\n",
       "      <td>30.271129</td>\n",
       "      <td>-97.743700</td>\n",
       "    </tr>\n",
       "    <tr>\n",
       "      <th>1</th>\n",
       "      <td>Round Rock</td>\n",
       "      <td>123,678</td>\n",
       "      <td>30.508235</td>\n",
       "      <td>-97.678893</td>\n",
       "    </tr>\n",
       "    <tr>\n",
       "      <th>2</th>\n",
       "      <td>Cedar Park</td>\n",
       "      <td>75,704</td>\n",
       "      <td>30.521712</td>\n",
       "      <td>-97.827833</td>\n",
       "    </tr>\n",
       "  </tbody>\n",
       "</table>\n",
       "</div>"
      ],
      "text/plain": [
       "     CityName Population   Latitude  Longitude\n",
       "0      Austin    950,715  30.271129 -97.743700\n",
       "1  Round Rock    123,678  30.508235 -97.678893\n",
       "2  Cedar Park     75,704  30.521712 -97.827833"
      ]
     },
     "execution_count": 22,
     "metadata": {},
     "output_type": "execute_result"
    }
   ],
   "source": [
    "# Getting the latitude and longitude coordinates of these cities using OpenCage Geocoding APIs\n",
    "city_list = ['Austin', 'Round Rock', 'Cedar Park']\n",
    "latitude_list = []\n",
    "longitude_list = []\n",
    "top_city_df = pd.DataFrame(columns=[\"CityName\", \"Population\", \"Latitude\", \"Longitude\"])\n",
    "\n",
    "for city in city_list:\n",
    "    query = city + \", TX, United States of America\"\n",
    "    uri = \"https://api.opencagedata.com/geocode/v1/json?q={}&key={}\".format(query, my_api_key)\n",
    "    response = requests.get(uri).json()\n",
    "    latitude_list.append(response['results'][0]['geometry']['lat'])\n",
    "    longitude_list.append(response['results'][0]['geometry']['lng'])\n",
    "    \n",
    "top_city_df[\"CityName\"] = city_list\n",
    "top_city_df[\"Latitude\"] = latitude_list\n",
    "top_city_df[\"Population\"] = city_df[\"Population\"]\n",
    "top_city_df[\"Longitude\"] = longitude_list\n",
    "    \n",
    "top_city_df"
   ]
  },
  {
   "cell_type": "markdown",
   "metadata": {},
   "source": [
    "### Exploring the top 3 cities with respect to various attributes"
   ]
  },
  {
   "cell_type": "markdown",
   "metadata": {},
   "source": [
    "For the selected three cities, we are going to explore these different aspects which could be a good starting point to consider when purchasing a house:\n",
    "<ul>\n",
    "    <li>Health  [Hospital, Pharmacies, Clinics, Dentist]</li>\n",
    "    <li>Food  [Grocery shops, restaurants, coffee shops]</li>\n",
    "    <li>Education [Elementary schools, middle schools, high schools, college/university]</li>\n",
    "    <li>Entertainment  [Movie Theaters, Bars]</li>\n",
    "    <li>Average prices of the house</li>\n",
    "    <li>Property taxes</li>\n",
    "    <li>Average HOA</li>    \n",
    "</ul>\n",
    "\n",
    "I've chosen Health, Food, and Entertainment as first three categories because that's the most we'd need to be available close-by. "
   ]
  },
  {
   "cell_type": "markdown",
   "metadata": {},
   "source": [
    "FourSquare has unique ID's for different categories of venues listed here: https://developer.foursquare.com/docs/resources/categories. We are going to use this to explore various categories around three cities. These are the high-level categories that are chosen for this analysis (and their respective category_ID's can be found in the code):\n",
    "<ul>\n",
    "    <li> <strong>Health</strong> - medical center, details about doctor's office, ER, hospital, medical lab, physical therapist, outdoors and recreation, health and beauty services, pharmacy etc</li>\n",
    "    <li> <strong>Food</strong> - all cuisine restaurants in the world, breakfast place, coffee shops, Fruits and Vegetables store etc</li>\n",
    "    <li> <strong>Education</strong> - elementary, middle, and high schools, colleges, and universities</li>\n",
    "    <li> <strong>Entertainment</strong> - Arts and entertainment, museum, nightlife spot, social clubs etc.</li>\n"
   ]
  },
  {
   "cell_type": "code",
   "execution_count": 23,
   "metadata": {},
   "outputs": [],
   "source": [
    "# defining a common class to construct the request URL used to explore venues under various categories\n",
    "def requestPayload(latitude, longitude, category):\n",
    "    # crafting the request url\n",
    "    limit = 500      # no. of locations to return\n",
    "    radius = 8050    # approx 5 miles\n",
    "    url = \"https://api.foursquare.com/v2/venues/search?categoryId={}&client_id={}&client_secret={}&v={}&limit={}&radius={}&ll={},{}\".format(category, client_id, client_secret, version, limit, radius, latitude, longitude)\n",
    "    return url      \n"
   ]
  },
  {
   "cell_type": "markdown",
   "metadata": {},
   "source": [
    "#### 1. Health "
   ]
  },
  {
   "cell_type": "code",
   "execution_count": 24,
   "metadata": {
    "scrolled": true
   },
   "outputs": [],
   "source": [
    "# creating a category list that has the category IDs of the all venues related to health\n",
    "health_list = [\"4d4b7105d754a06377d81259\", \"4f4528bc4b90abdf24c9de85\", \"4bf58dd8d48988d104941735\", \"56aa371be4b08b9a8d573526\", \"54541900498ea6ccd0202697\", \"4bf58dd8d48988d10f951735\",\n",
    "              \"4bf58dd8d48988d194941735\", \"4bf58dd8d48988d177941735\", \"5744ccdfe4b0c0459246b4af\", \"4bf58dd8d48988d177941735\"]\n",
    "\n",
    "# creating an empty dataframe to store the results\n",
    "health_dataframe = pd.DataFrame(columns=[\"CityName\", \"Venue\", \"Latitude\", \"Longitude\"])\n",
    "venues_list = []\n",
    "latitude_list = []\n",
    "longitude_list = []\n",
    "city_list = []\n",
    "\n",
    "for city in range(3):\n",
    "    for category in health_list:\n",
    "        response = requests.get(requestPayload(top_city_df.loc[city, \"Latitude\"], top_city_df.loc[city, \"Longitude\"], category)).json()\n",
    "        for i in range(len(response['response']['venues'])):\n",
    "            venues_list.append(response['response']['venues'][i]['name'])\n",
    "            latitude_list.append(response['response']['venues'][i]['location']['lat'])\n",
    "            longitude_list.append(response['response']['venues'][i]['location']['lng'])\n",
    "            city_list.append(top_city_df.loc[city, \"CityName\"])\n",
    "            \n",
    "health_dataframe[\"CityName\"] = city_list\n",
    "health_dataframe[\"Venue\"] = venues_list\n",
    "health_dataframe[\"Latitude\"] = latitude_list\n",
    "health_dataframe[\"Longitude\"] = longitude_list"
   ]
  },
  {
   "cell_type": "code",
   "execution_count": 12,
   "metadata": {},
   "outputs": [
    {
     "data": {
      "image/png": "[encoded data removed]",
      "text/plain": [
       "<Figure size 576x432 with 1 Axes>"
      ]
     },
     "metadata": {
      "needs_background": "light"
     },
     "output_type": "display_data"
    }
   ],
   "source": [
    "# plotting the health venues in three cities for easier comparison\n",
    "ax = health_dataframe['CityName'].value_counts().plot(kind='bar', figsize=(8,6), fontsize=12)\n",
    "ax.set_xlabel(\"City\", fontsize=14)\n",
    "plt.xticks(rotation=0)\n",
    "ax.set_ylabel(\"Health Venues Count\", fontsize=14)\n",
    "plt.title(\"Comparison of Health Venues in 3 cities\", fontsize=20)\n",
    "\n",
    "for i in ax.patches:\n",
    "    ax.text(i.get_x()+.17, i.get_height()+4.0, str(i.get_height()), fontsize=14)"
   ]
  },
  {
   "cell_type": "markdown",
   "metadata": {},
   "source": [
    "#### 2. Food"
   ]
  },
  {
   "cell_type": "code",
   "execution_count": 25,
   "metadata": {},
   "outputs": [],
   "source": [
    "# creating a category list that has the category IDs of the all venues related to food\n",
    "food_list = [\n",
    "    \"4d4b7105d754a06374d81259\", \"4bf58dd8d48988d14e941735\", \"4bf58dd8d48988d142941735\", \"4bf58dd8d48988d111941735\", \n",
    "\"4bf58dd8d48988d113941735\", \"4eb1d5724b900d56c88a45fe\", \"4bf58dd8d48988d1d1941735\", \"4bf58dd8d48988d149941735\", \n",
    "\"4bf58dd8d48988d1df931735\", \"4bf58dd8d48988d143941735\", \"4bf58dd8d48988d16d941735\", \"4bf58dd8d48988d1e0931735\", \n",
    " \"4bf58dd8d48988d147941735\", \"4bf58dd8d48988d16e941735\"]\n",
    "\n",
    "# creating an empty dataframe to store the results\n",
    "food_dataframe = pd.DataFrame(columns=[\"CityName\", \"Venue\", \"Latitude\", \"Longitude\"])\n",
    "venues_list = []\n",
    "latitude_list = []\n",
    "longitude_list = []\n",
    "city_list = []\n",
    "\n",
    "for city in range(3):\n",
    "    for category in food_list:\n",
    "        response = requests.get(requestPayload(top_city_df.loc[city, \"Latitude\"], top_city_df.loc[city, \"Longitude\"], category)).json()\n",
    "        for i in range(len(response['response']['venues'])):\n",
    "            venues_list.append(response['response']['venues'][i]['name'])\n",
    "            latitude_list.append(response['response']['venues'][i]['location']['lat'])\n",
    "            longitude_list.append(response['response']['venues'][i]['location']['lng'])\n",
    "            city_list.append(top_city_df.loc[city, \"CityName\"])\n",
    "            \n",
    "food_dataframe[\"CityName\"] = city_list\n",
    "food_dataframe[\"Venue\"] = venues_list\n",
    "food_dataframe[\"Latitude\"] = latitude_list\n",
    "food_dataframe[\"Longitude\"] = longitude_list"
   ]
  },
  {
   "cell_type": "code",
   "execution_count": 27,
   "metadata": {
    "scrolled": false
   },
   "outputs": [
    {
     "data": {
      "image/png": "[encoded data removed]",
      "text/plain": [
       "<Figure size 576x432 with 1 Axes>"
      ]
     },
     "metadata": {
      "needs_background": "light"
     },
     "output_type": "display_data"
    }
   ],
   "source": [
    "# plotting the food venues in three cities for comparison\n",
    "ax = food_dataframe['CityName'].value_counts().plot(kind='bar', figsize=(8,6), fontsize=12, color='orange')\n",
    "ax.set_xlabel(\"City\", fontsize=14)\n",
    "plt.xticks(rotation=0)\n",
    "ax.set_ylabel(\"Food Venues Count\", fontsize=14)\n",
    "plt.title(\"Comparison of Food Venues in 3 cities\", fontsize=20)\n",
    "\n",
    "for i in ax.patches:\n",
    "    ax.text(i.get_x()+.17, i.get_height()+4.0, str(i.get_height()), fontsize=14)"
   ]
  },
  {
   "cell_type": "markdown",
   "metadata": {},
   "source": [
    "#### 3. Education"
   ]
  },
  {
   "cell_type": "code",
   "execution_count": 14,
   "metadata": {},
   "outputs": [],
   "source": [
    "# creating a category list that has the category IDs of different education institutions\n",
    "education_list = [\n",
    "    \"4d4b7105d754a06372d81259\", \"4f4533804b9074f6e4fb0105\", \"4f4533814b9074f6e4fb0106\", \n",
    "    \"4bf58dd8d48988d13d941735\", \"52e81612bcbc57f1066b7a45\"]\n",
    "\n",
    "\n",
    "# creating an empty dataframe to store the results\n",
    "education_dataframe = pd.DataFrame(columns=[\"CityName\", \"Venue\", \"Latitude\", \"Longitude\"])\n",
    "venues_list = []\n",
    "latitude_list = []\n",
    "longitude_list = []\n",
    "city_list = []\n",
    "\n",
    "for city in range(3):\n",
    "    for category in education_list:\n",
    "        response = requests.get(requestPayload(top_city_df.loc[city, \"Latitude\"], top_city_df.loc[city, \"Longitude\"], category)).json()\n",
    "        for i in range(len(response['response']['venues'])):\n",
    "            venues_list.append(response['response']['venues'][i]['name'])\n",
    "            latitude_list.append(response['response']['venues'][i]['location']['lat'])\n",
    "            longitude_list.append(response['response']['venues'][i]['location']['lng'])\n",
    "            city_list.append(top_city_df.loc[city, \"CityName\"])\n",
    "            \n",
    "education_dataframe[\"CityName\"] = city_list\n",
    "education_dataframe[\"Venue\"] = venues_list\n",
    "education_dataframe[\"Latitude\"] = latitude_list\n",
    "education_dataframe[\"Longitude\"] = longitude_list"
   ]
  },
  {
   "cell_type": "code",
   "execution_count": 19,
   "metadata": {},
   "outputs": [
    {
     "data": {
      "image/png": "[encoded data removed]",
      "text/plain": [
       "<Figure size 576x432 with 1 Axes>"
      ]
     },
     "metadata": {
      "needs_background": "light"
     },
     "output_type": "display_data"
    }
   ],
   "source": [
    "# plotting the education venues in three cities for comparison\n",
    "ax = education_dataframe['CityName'].value_counts().plot(kind='bar', figsize=(8,6), fontsize=12, color='coral')\n",
    "ax.set_xlabel(\"City\", fontsize=14)\n",
    "plt.xticks(rotation=0)\n",
    "ax.set_ylabel(\"Education Venues Count\", fontsize=14)\n",
    "plt.title(\"Comparison of Education Venues in 3 cities\", fontsize=20)\n",
    "\n",
    "for i in ax.patches:\n",
    "    ax.text(i.get_x()+.17, i.get_height()+0.6, str(i.get_height()), fontsize=14)"
   ]
  },
  {
   "cell_type": "markdown",
   "metadata": {},
   "source": [
    "#### 4. Entertainment"
   ]
  },
  {
   "cell_type": "code",
   "execution_count": 5,
   "metadata": {},
   "outputs": [],
   "source": [
    "# creating a category list that has the category IDs of the all venues related to Entertainment\n",
    "entertainment_list = [\n",
    "    \"4bf58dd8d48988d1e4931735\", \"4bf58dd8d48988d17f941735\", \"4bf58dd8d48988d181941735\", \"4bf58dd8d48988d184941735\", \n",
    "    \"4d4b7105d754a06376d81259\", \"4bf58dd8d48988d11f941735\"]\n",
    "\n",
    "# creating an empty dataframe to store the results\n",
    "entertainment_dataframe = pd.DataFrame(columns=[\"CityName\", \"Venue\", \"Latitude\", \"Longitude\"])\n",
    "venues_list = []\n",
    "latitude_list = []\n",
    "longitude_list = []\n",
    "city_list = []\n",
    "\n",
    "for city in range(3):\n",
    "    for category in entertainment_list:\n",
    "        response = requests.get(requestPayload(top_city_df.loc[city, \"Latitude\"], top_city_df.loc[city, \"Longitude\"], category)).json()\n",
    "        for i in range(len(response['response']['venues'])):\n",
    "            venues_list.append(response['response']['venues'][i]['name'])\n",
    "            latitude_list.append(response['response']['venues'][i]['location']['lat'])\n",
    "            longitude_list.append(response['response']['venues'][i]['location']['lng'])\n",
    "            city_list.append(top_city_df.loc[city, \"CityName\"])\n",
    "            \n",
    "entertainment_dataframe[\"CityName\"] = city_list\n",
    "entertainment_dataframe[\"Venue\"] = venues_list\n",
    "entertainment_dataframe[\"Latitude\"] = latitude_list\n",
    "entertainment_dataframe[\"Longitude\"] = longitude_list"
   ]
  },
  {
   "cell_type": "code",
   "execution_count": 12,
   "metadata": {},
   "outputs": [
    {
     "data": {
      "image/png": "[encoded data removed]",
      "text/plain": [
       "<Figure size 576x432 with 1 Axes>"
      ]
     },
     "metadata": {
      "needs_background": "light"
     },
     "output_type": "display_data"
    }
   ],
   "source": [
    "# plotting the entertainment venues in three cities for comparison\n",
    "ax = entertainment_dataframe['CityName'].value_counts().plot(kind='bar', figsize=(8,6), fontsize=12, color='green')\n",
    "ax.set_xlabel(\"City\", fontsize=14)\n",
    "plt.xticks(rotation=0)\n",
    "ax.set_ylabel(\"Entertainment Venues Count\", fontsize=14)\n",
    "plt.title(\"Comparison of Entertainment Venues in 3 cities\", fontsize=20)\n",
    "\n",
    "for i in ax.patches:\n",
    "    ax.text(i.get_x()+.17, i.get_height()+1.85, str(i.get_height()), fontsize=14)"
   ]
  },
  {
   "cell_type": "markdown",
   "metadata": {},
   "source": [
    "#### 5. Average House Price"
   ]
  },
  {
   "cell_type": "markdown",
   "metadata": {},
   "source": [
    "We can get the median pricing of a house in a certain area using this link from Zillow: https://www.zillow.com/{city}-{state}/home-values/. We will be using this link along with some parsing to get the median prices of the house and other details"
   ]
  },
  {
   "cell_type": "code",
   "execution_count": 259,
   "metadata": {},
   "outputs": [
    {
     "data": {
      "text/html": [
       "<div>\n",
       "<style scoped>\n",
       "    .dataframe tbody tr th:only-of-type {\n",
       "        vertical-align: middle;\n",
       "    }\n",
       "\n",
       "    .dataframe tbody tr th {\n",
       "        vertical-align: top;\n",
       "    }\n",
       "\n",
       "    .dataframe thead th {\n",
       "        text-align: right;\n",
       "    }\n",
       "</style>\n",
       "<table border=\"1\" class=\"dataframe\">\n",
       "  <thead>\n",
       "    <tr style=\"text-align: right;\">\n",
       "      <th></th>\n",
       "      <th>City</th>\n",
       "      <th>Last Year Value</th>\n",
       "      <th>Current Median Value</th>\n",
       "      <th>Next Year Forecast</th>\n",
       "    </tr>\n",
       "  </thead>\n",
       "  <tbody>\n",
       "    <tr>\n",
       "      <th>0</th>\n",
       "      <td>austin</td>\n",
       "      <td>6.2% 1-year change</td>\n",
       "      <td>$370,700</td>\n",
       "      <td>3.4% 1-year forecast</td>\n",
       "    </tr>\n",
       "    <tr>\n",
       "      <th>1</th>\n",
       "      <td>round-rock</td>\n",
       "      <td>3.6% 1-year change</td>\n",
       "      <td>$277,700</td>\n",
       "      <td>1.1% 1-year forecast</td>\n",
       "    </tr>\n",
       "    <tr>\n",
       "      <th>2</th>\n",
       "      <td>cedar-park</td>\n",
       "      <td>2.7% 1-year change</td>\n",
       "      <td>$289,200</td>\n",
       "      <td>1.6% 1-year forecast</td>\n",
       "    </tr>\n",
       "  </tbody>\n",
       "</table>\n",
       "</div>"
      ],
      "text/plain": [
       "         City     Last Year Value Current Median Value    Next Year Forecast\n",
       "0      austin  6.2% 1-year change             $370,700  3.4% 1-year forecast\n",
       "1  round-rock  3.6% 1-year change             $277,700  1.1% 1-year forecast\n",
       "2  cedar-park  2.7% 1-year change             $289,200  1.6% 1-year forecast"
      ]
     },
     "execution_count": 259,
     "metadata": {},
     "output_type": "execute_result"
    }
   ],
   "source": [
    "# crafting the request payload to get the house's median price, 1-year change, and 1-year forecast\n",
    "req_headers = {\n",
    "    'accept': 'text/html,application/xhtml+xml,application/xml;q=0.9,image/webp,image/apng,*/*;q=0.8',\n",
    "    'accept-encoding': 'gzip, deflate, br',\n",
    "    'accept-language': 'en-US,en;q=0.8',\n",
    "    'upgrade-insecure-requests': '1',\n",
    "    'user-agent': 'Mozilla/5.0 (Windows NT 10.0; Win64; x64) AppleWebKit/537.36 (KHTML, like Gecko) Chrome/61.0.3163.100 Safari/537.36'\n",
    "}\n",
    "\n",
    "median_values = []\n",
    "last_change = []\n",
    "forecast = []\n",
    "\n",
    "cities = [\"austin\", \"round-rock\", \"cedar-park\"]\n",
    "for city in cities:\n",
    "    url = \"https://www.zillow.com/{}-tx/home-values/\".format(city)\n",
    "    response = requests.get(url, headers=req_headers)\n",
    "    soup = BeautifulSoup(response.content, 'html.parser')\n",
    "    median = soup.find_all('h2')\n",
    "    median_values.append(median[0].text)\n",
    "    \n",
    "    change_list = soup.find_all('ul', class_='zsg-g')\n",
    "    list_item = change_list[0].find_all('li')\n",
    "    last_change.append(list_item[0].text)    \n",
    "    forecast.append(list_item[1].text.strip())\n",
    "    \n",
    "# converting the resultant data into a dataframe for easier analysis\n",
    "home_value_dataframe = pd.DataFrame(columns=[\"City\", \"Last Year Value\", \"Current Median Value\", \"Next Year Forecast\"])\n",
    "home_value_dataframe[\"City\"] = cities\n",
    "home_value_dataframe[\"Last Year Value\"] = last_change\n",
    "home_value_dataframe[\"Current Median Value\"] = median_values\n",
    "home_value_dataframe[\"Next Year Forecast\"] = forecast\n",
    "\n",
    "home_value_dataframe"
   ]
  },
  {
   "cell_type": "markdown",
   "metadata": {},
   "source": [
    "This dataframe is little difficult to plot with too many texts and '$', \"\\%\" symbols floating around. Let us use regex and few mathematical formulae to clean this into a new dataframe"
   ]
  },
  {
   "cell_type": "code",
   "execution_count": 260,
   "metadata": {},
   "outputs": [
    {
     "data": {
      "text/html": [
       "<div>\n",
       "<style scoped>\n",
       "    .dataframe tbody tr th:only-of-type {\n",
       "        vertical-align: middle;\n",
       "    }\n",
       "\n",
       "    .dataframe tbody tr th {\n",
       "        vertical-align: top;\n",
       "    }\n",
       "\n",
       "    .dataframe thead th {\n",
       "        text-align: right;\n",
       "    }\n",
       "</style>\n",
       "<table border=\"1\" class=\"dataframe\">\n",
       "  <thead>\n",
       "    <tr style=\"text-align: right;\">\n",
       "      <th></th>\n",
       "      <th>City</th>\n",
       "      <th>Last Year Value</th>\n",
       "      <th>Current Median Value</th>\n",
       "      <th>Next Year Forecast</th>\n",
       "    </tr>\n",
       "  </thead>\n",
       "  <tbody>\n",
       "    <tr>\n",
       "      <th>0</th>\n",
       "      <td>austin</td>\n",
       "      <td>6.2%</td>\n",
       "      <td>370700</td>\n",
       "      <td>3.4%</td>\n",
       "    </tr>\n",
       "    <tr>\n",
       "      <th>1</th>\n",
       "      <td>round-rock</td>\n",
       "      <td>3.6%</td>\n",
       "      <td>277700</td>\n",
       "      <td>1.1%</td>\n",
       "    </tr>\n",
       "    <tr>\n",
       "      <th>2</th>\n",
       "      <td>cedar-park</td>\n",
       "      <td>2.7%</td>\n",
       "      <td>289200</td>\n",
       "      <td>1.6%</td>\n",
       "    </tr>\n",
       "  </tbody>\n",
       "</table>\n",
       "</div>"
      ],
      "text/plain": [
       "         City Last Year Value Current Median Value Next Year Forecast\n",
       "0      austin            6.2%               370700               3.4%\n",
       "1  round-rock            3.6%               277700               1.1%\n",
       "2  cedar-park            2.7%               289200               1.6%"
      ]
     },
     "execution_count": 260,
     "metadata": {},
     "output_type": "execute_result"
    }
   ],
   "source": [
    "# creating two empty lists to store the sliced values \n",
    "new_ly_values = []\n",
    "new_fc_values = []\n",
    "\n",
    "# defining the regex pattern for remove the extra text in last year and forecast columns\n",
    "percentage_regex = re.compile(r'\\d+.\\d+%')\n",
    "\n",
    "# parsing through the column to find the patterns matching regex and adding it to the list\n",
    "for values in home_value_dataframe['Last Year Value']:\n",
    "    sliced_value = percentage_regex.search(values)\n",
    "    new_ly_values.append(sliced_value.group())\n",
    "\n",
    "for values in home_value_dataframe['Next Year Forecast']:\n",
    "    sliced_value = percentage_regex.search(values)\n",
    "    new_fc_values.append(sliced_value.group())\n",
    "\n",
    "home_value_dataframe[\"Last Year Value\"] = new_ly_values\n",
    "home_value_dataframe[\"Next Year Forecast\"] = new_fc_values\n",
    "home_value_dataframe['Current Median Value'] = home_value_dataframe['Current Median Value'].str.replace(\"$\", \"\")\n",
    "home_value_dataframe['Current Median Value'] = home_value_dataframe['Current Median Value'].str.replace(\",\", \"\")\n",
    "\n",
    "\n",
    "home_value_dataframe"
   ]
  },
  {
   "cell_type": "markdown",
   "metadata": {},
   "source": [
    "Still, this dataframe is not plot-able, so instead of last year value being a percentage, we will calculate those numbers exactly"
   ]
  },
  {
   "cell_type": "code",
   "execution_count": 261,
   "metadata": {},
   "outputs": [
    {
     "data": {
      "text/html": [
       "<div>\n",
       "<style scoped>\n",
       "    .dataframe tbody tr th:only-of-type {\n",
       "        vertical-align: middle;\n",
       "    }\n",
       "\n",
       "    .dataframe tbody tr th {\n",
       "        vertical-align: top;\n",
       "    }\n",
       "\n",
       "    .dataframe thead th {\n",
       "        text-align: right;\n",
       "    }\n",
       "</style>\n",
       "<table border=\"1\" class=\"dataframe\">\n",
       "  <thead>\n",
       "    <tr style=\"text-align: right;\">\n",
       "      <th></th>\n",
       "      <th>City</th>\n",
       "      <th>Last Year Value</th>\n",
       "      <th>Current Median Value</th>\n",
       "      <th>Next Year Forecast</th>\n",
       "    </tr>\n",
       "  </thead>\n",
       "  <tbody>\n",
       "    <tr>\n",
       "      <th>0</th>\n",
       "      <td>austin</td>\n",
       "      <td>347717</td>\n",
       "      <td>370700</td>\n",
       "      <td>383304</td>\n",
       "    </tr>\n",
       "    <tr>\n",
       "      <th>1</th>\n",
       "      <td>round-rock</td>\n",
       "      <td>267703</td>\n",
       "      <td>277700</td>\n",
       "      <td>280755</td>\n",
       "    </tr>\n",
       "    <tr>\n",
       "      <th>2</th>\n",
       "      <td>cedar-park</td>\n",
       "      <td>281392</td>\n",
       "      <td>289200</td>\n",
       "      <td>293827</td>\n",
       "    </tr>\n",
       "  </tbody>\n",
       "</table>\n",
       "</div>"
      ],
      "text/plain": [
       "         City Last Year Value Current Median Value Next Year Forecast\n",
       "0      austin          347717               370700             383304\n",
       "1  round-rock          267703               277700             280755\n",
       "2  cedar-park          281392               289200             293827"
      ]
     },
     "execution_count": 261,
     "metadata": {},
     "output_type": "execute_result"
    }
   ],
   "source": [
    "# removing the \"%\" symbol for easier calculation\n",
    "home_value_dataframe['Last Year Value'] = home_value_dataframe['Last Year Value'].str.replace(\"%\",\"\")\n",
    "home_value_dataframe['Next Year Forecast'] = home_value_dataframe['Next Year Forecast'].str.replace(\"%\",\"\")\n",
    "\n",
    "for i in range(len(home_value_dataframe)):\n",
    "    last_percent = float(home_value_dataframe.loc[i, 'Last Year Value'])\n",
    "    forecast = float(home_value_dataframe.loc[i, 'Next Year Forecast'])\n",
    "    median_value = float(home_value_dataframe.loc[i, 'Current Median Value'])\n",
    "    \n",
    "    last = float(last_percent/100)\n",
    "    fore = float(forecast/100)\n",
    "    home_value_dataframe.loc[i, 'Last Year Value'] = (1 - last) * median_value\n",
    "    home_value_dataframe.loc[i, 'Next Year Forecast'] = (1 + fore) * median_value\n",
    "\n",
    "\n",
    "home_value_dataframe"
   ]
  },
  {
   "cell_type": "code",
   "execution_count": 22,
   "metadata": {},
   "outputs": [
    {
     "data": {
      "image/png": "[encoded data removed]",
      "text/plain": [
       "<Figure size 504x432 with 1 Axes>"
      ]
     },
     "metadata": {
      "needs_background": "light"
     },
     "output_type": "display_data"
    }
   ],
   "source": [
    "# Austin median house price differences\n",
    "x = [2018, 2019, 2020]\n",
    "y = [347717,370700,383304]\n",
    "\n",
    "my_xticks = ['2018', '2019', '2020']\n",
    "plt.figure(figsize=(7,6))\n",
    "\n",
    "plt.xticks(x, my_xticks, fontsize=12)\n",
    "plt.yticks(fontsize=12)\n",
    "\n",
    "plt.title(\"Austin Median Prices of Houses\", fontsize=15)\n",
    "plt.plot(x , y, 'b-o')\n",
    "for a, b in zip(x, y):\n",
    "    val = \"$\" + str(b)\n",
    "    plt.text(a+0.08, b, val, fontsize=12)\n"
   ]
  },
  {
   "cell_type": "code",
   "execution_count": 23,
   "metadata": {},
   "outputs": [
    {
     "data": {
      "image/png": "[encoded data removed]",
      "text/plain": [
       "<Figure size 504x432 with 1 Axes>"
      ]
     },
     "metadata": {
      "needs_background": "light"
     },
     "output_type": "display_data"
    }
   ],
   "source": [
    "# Round rock median house price differences\n",
    "x = [2018, 2019, 2020]\n",
    "y = [267703, 277700,280755]\n",
    "\n",
    "my_xticks = ['2018', '2019', '2020']\n",
    "plt.figure(figsize=(7,6))\n",
    "\n",
    "plt.xticks(x, my_xticks, fontsize=12)\n",
    "plt.yticks(fontsize=12)\n",
    "\n",
    "plt.title(\"Round Rock Median Prices of Houses\", fontsize=15)\n",
    "plt.plot(x , y, 'b-o')\n",
    "for a, b in zip(x, y):\n",
    "    val = \"$\" + str(b)\n",
    "    plt.text(a+0.08, b, val, fontsize=12)"
   ]
  },
  {
   "cell_type": "code",
   "execution_count": 24,
   "metadata": {},
   "outputs": [
    {
     "data": {
      "image/png": "[encoded data removed]",
      "text/plain": [
       "<Figure size 504x432 with 1 Axes>"
      ]
     },
     "metadata": {
      "needs_background": "light"
     },
     "output_type": "display_data"
    }
   ],
   "source": [
    "# Cedar Park median house price differences\n",
    "x = [2018, 2019, 2020]\n",
    "y = [281392, 289200, 293827]\n",
    "\n",
    "my_xticks = ['2018', '2019', '2020']\n",
    "plt.figure(figsize=(7,6))\n",
    "\n",
    "plt.xticks(x, my_xticks, fontsize=12)\n",
    "plt.yticks(fontsize=12)\n",
    "\n",
    "plt.title(\"Cedar Park Median Prices of Houses\", fontsize=15)\n",
    "plt.plot(x , y, 'b-o')\n",
    "for a, b in zip(x, y):\n",
    "    val = \"$\" + str(b)\n",
    "    plt.text(a+0.08, b, val, fontsize=12)"
   ]
  },
  {
   "cell_type": "markdown",
   "metadata": {},
   "source": [
    "By looking at the above 3 graphs, looks like Austin and Round Rock have the most spike in the median price of houses, but we are not there yet. Let us explore last few factors"
   ]
  },
  {
   "cell_type": "code",
   "execution_count": null,
   "metadata": {},
   "outputs": [],
   "source": []
  }
 ],
 "metadata": {
  "kernelspec": {
   "display_name": "Python 3",
   "language": "python",
   "name": "python3"
  },
  "language_info": {
   "codemirror_mode": {
    "name": "ipython",
    "version": 3
   },
   "file_extension": ".py",
   "mimetype": "text/x-python",
   "name": "python",
   "nbconvert_exporter": "python",
   "pygments_lexer": "ipython3",
   "version": "3.7.2"
  }
 },
 "nbformat": 4,
 "nbformat_minor": 2
}
