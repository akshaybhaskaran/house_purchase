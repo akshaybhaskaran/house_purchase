{
 "cells": [
  {
   "cell_type": "markdown",
   "metadata": {},
   "source": [
    "# <center> Purchasing your next house! </center>"
   ]
  },
  {
   "cell_type": "markdown",
   "metadata": {},
   "source": [
    "### Libraries, credentials, and configuration"
   ]
  },
  {
   "cell_type": "code",
   "execution_count": 115,
   "metadata": {},
   "outputs": [],
   "source": [
    "# Importing the necessary libraries\n",
    "import pandas as pd\n",
    "import numpy as np\n",
    "import requests\n",
    "import json\n",
    "from bs4 import BeautifulSoup\n",
    "import re\n",
    "from geopy.geocoders import Nominatim\n",
    "import pprint\n",
    "\n",
    "# Four Square credentials\n",
    "client_id = 'PEQPJEZXPG4HRTFTMTZHL3P3QRZ1SV55525PX2YO22F3Q0JB'\n",
    "client_secret = 'JEDPFGTRY4SISHI1S2W3RTQGIG3UUROA5OG4I3NW4UXBBLB1'\n",
    "version = '20180605'\n",
    "\n",
    "# OpenCage Geocoding API key\n",
    "my_api_key = \"a91cf6a6d9ec4e6fa91deb0bc4fbf168\""
   ]
  },
  {
   "cell_type": "markdown",
   "metadata": {},
   "source": [
    "### Shortlisting the cities based on population"
   ]
  },
  {
   "cell_type": "markdown",
   "metadata": {},
   "source": [
    "There are some good cities around Austin, but it will become a heavy task to compare and contrast each cities as there are more than 30. So, this project will be limited to top three cities with a high population in the list."
   ]
  },
  {
   "cell_type": "code",
   "execution_count": 117,
   "metadata": {},
   "outputs": [
    {
     "data": {
      "text/html": [
       "<div>\n",
       "<style scoped>\n",
       "    .dataframe tbody tr th:only-of-type {\n",
       "        vertical-align: middle;\n",
       "    }\n",
       "\n",
       "    .dataframe tbody tr th {\n",
       "        vertical-align: top;\n",
       "    }\n",
       "\n",
       "    .dataframe thead th {\n",
       "        text-align: right;\n",
       "    }\n",
       "</style>\n",
       "<table border=\"1\" class=\"dataframe\">\n",
       "  <thead>\n",
       "    <tr style=\"text-align: right;\">\n",
       "      <th></th>\n",
       "      <th>CityName</th>\n",
       "      <th>Population</th>\n",
       "    </tr>\n",
       "  </thead>\n",
       "  <tbody>\n",
       "    <tr>\n",
       "      <th>0</th>\n",
       "      <td>Austin</td>\n",
       "      <td>950,715</td>\n",
       "    </tr>\n",
       "    <tr>\n",
       "      <th>1</th>\n",
       "      <td>Round Rock</td>\n",
       "      <td>123,678</td>\n",
       "    </tr>\n",
       "    <tr>\n",
       "      <th>2</th>\n",
       "      <td>Cedar Park</td>\n",
       "      <td>75,704</td>\n",
       "    </tr>\n",
       "    <tr>\n",
       "      <th>3</th>\n",
       "      <td>Georgetown</td>\n",
       "      <td>70,685</td>\n",
       "    </tr>\n",
       "    <tr>\n",
       "      <th>4</th>\n",
       "      <td>San Marcos</td>\n",
       "      <td>63,071</td>\n",
       "    </tr>\n",
       "    <tr>\n",
       "      <th>5</th>\n",
       "      <td>Pflugerville</td>\n",
       "      <td>59,245</td>\n",
       "    </tr>\n",
       "    <tr>\n",
       "      <th>6</th>\n",
       "      <td>Leander</td>\n",
       "      <td>42,761</td>\n",
       "    </tr>\n",
       "    <tr>\n",
       "      <th>7</th>\n",
       "      <td>Kyle</td>\n",
       "      <td>39,060</td>\n",
       "    </tr>\n",
       "    <tr>\n",
       "      <th>8</th>\n",
       "      <td>Hutto</td>\n",
       "      <td>23,832</td>\n",
       "    </tr>\n",
       "  </tbody>\n",
       "</table>\n",
       "</div>"
      ],
      "text/plain": [
       "       CityName Population\n",
       "0        Austin    950,715\n",
       "1    Round Rock    123,678\n",
       "2    Cedar Park     75,704\n",
       "3    Georgetown     70,685\n",
       "4    San Marcos     63,071\n",
       "5  Pflugerville     59,245\n",
       "6       Leander     42,761\n",
       "7          Kyle     39,060\n",
       "8         Hutto     23,832"
      ]
     },
     "execution_count": 117,
     "metadata": {},
     "output_type": "execute_result"
    }
   ],
   "source": [
    "# Scraping the near-by cities list from wikipedia\n",
    "austin_nearby = \"https://en.wikipedia.org/wiki/Greater_Austin\"\n",
    "response = requests.get(austin_nearby)\n",
    "\n",
    "# Parsing the results with BeautifulSoup\n",
    "soup = BeautifulSoup(response.text, \"html.parser\")\n",
    "table = soup.find_all(\"table\", class_=\"wikitable\")\n",
    "population_table = table[1]\n",
    "pop_def = population_table.find_all('td')\n",
    "\n",
    "city_list = []\n",
    "population_list = []\n",
    "\n",
    "for i in range(0, 27, 3):\n",
    "    city_list.append(pop_def[i].text.strip())\n",
    "    population_list.append(pop_def[i+1].contents[0])\n",
    "\n",
    "city_df = pd.DataFrame(columns=[\"CityName\", \"Population\"])\n",
    "city_df[\"CityName\"] = city_list \n",
    "city_df[\"Population\"] = population_list\n",
    "city_df"
   ]
  },
  {
   "cell_type": "markdown",
   "metadata": {},
   "source": [
    "As we see, the top three cities are: Austin, Round Rock, and Cedar Park. So, let's start exploring them\n"
   ]
  },
  {
   "cell_type": "code",
   "execution_count": 119,
   "metadata": {},
   "outputs": [
    {
     "data": {
      "text/html": [
       "<div>\n",
       "<style scoped>\n",
       "    .dataframe tbody tr th:only-of-type {\n",
       "        vertical-align: middle;\n",
       "    }\n",
       "\n",
       "    .dataframe tbody tr th {\n",
       "        vertical-align: top;\n",
       "    }\n",
       "\n",
       "    .dataframe thead th {\n",
       "        text-align: right;\n",
       "    }\n",
       "</style>\n",
       "<table border=\"1\" class=\"dataframe\">\n",
       "  <thead>\n",
       "    <tr style=\"text-align: right;\">\n",
       "      <th></th>\n",
       "      <th>CityName</th>\n",
       "      <th>Latitude</th>\n",
       "      <th>Longitude</th>\n",
       "    </tr>\n",
       "  </thead>\n",
       "  <tbody>\n",
       "    <tr>\n",
       "      <th>0</th>\n",
       "      <td>Austin</td>\n",
       "      <td>30.271129</td>\n",
       "      <td>-97.743700</td>\n",
       "    </tr>\n",
       "    <tr>\n",
       "      <th>1</th>\n",
       "      <td>Round Rock</td>\n",
       "      <td>30.508235</td>\n",
       "      <td>-97.678893</td>\n",
       "    </tr>\n",
       "    <tr>\n",
       "      <th>2</th>\n",
       "      <td>Cedar Park</td>\n",
       "      <td>30.521712</td>\n",
       "      <td>-97.827833</td>\n",
       "    </tr>\n",
       "  </tbody>\n",
       "</table>\n",
       "</div>"
      ],
      "text/plain": [
       "     CityName   Latitude  Longitude\n",
       "0      Austin  30.271129 -97.743700\n",
       "1  Round Rock  30.508235 -97.678893\n",
       "2  Cedar Park  30.521712 -97.827833"
      ]
     },
     "execution_count": 119,
     "metadata": {},
     "output_type": "execute_result"
    }
   ],
   "source": [
    "# Getting the latitude and longitude coordinates of these cities using OpenCage Geocoding APIs\n",
    "city_list = ['Austin', 'Round Rock', 'Cedar Park']\n",
    "latitude_list = []\n",
    "longitude_list = []\n",
    "top_city_df = pd.DataFrame(columns=[\"CityName\", \"Latitude\", \"Longitude\"])\n",
    "\n",
    "for city in city_list:\n",
    "    query = city + \", TX, United States of America\"\n",
    "    uri = \"https://api.opencagedata.com/geocode/v1/json?q={}&key={}\".format(query, my_api_key)\n",
    "    response = requests.get(uri).json()\n",
    "    latitude_list.append(response['results'][0]['geometry']['lat'])\n",
    "    longitude_list.append(response['results'][0]['geometry']['lng'])\n",
    "    \n",
    "top_city_df[\"CityName\"] = city_list\n",
    "top_city_df[\"Latitude\"] = latitude_list\n",
    "top_city_df[\"Longitude\"] = longitude_list\n",
    "    \n",
    "top_city_df"
   ]
  },
  {
   "cell_type": "code",
   "execution_count": null,
   "metadata": {},
   "outputs": [],
   "source": []
  }
 ],
 "metadata": {
  "kernelspec": {
   "display_name": "Python 3",
   "language": "python",
   "name": "python3"
  },
  "language_info": {
   "codemirror_mode": {
    "name": "ipython",
    "version": 3
   },
   "file_extension": ".py",
   "mimetype": "text/x-python",
   "name": "python",
   "nbconvert_exporter": "python",
   "pygments_lexer": "ipython3",
   "version": "3.7.2"
  }
 },
 "nbformat": 4,
 "nbformat_minor": 2
}
